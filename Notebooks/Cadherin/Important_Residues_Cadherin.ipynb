{
 "cells": [
  {
   "cell_type": "code",
   "execution_count": 1,
   "metadata": {},
   "outputs": [
    {
     "name": "stderr",
     "output_type": "stream",
     "text": [
      "/home/akp47/anaconda3/lib/python3.6/site-packages/sklearn/cross_validation.py:41: DeprecationWarning: This module was deprecated in version 0.18 in favor of the model_selection module into which all the refactored classes and functions are moved. Also note that the interface of the new CV iterators are different from that of this module. This module will be removed in 0.20.\n",
      "  \"This module will be removed in 0.20.\", DeprecationWarning)\n",
      "/home/akp47/anaconda3/lib/python3.6/site-packages/sklearn/grid_search.py:42: DeprecationWarning: This module was deprecated in version 0.18 in favor of the model_selection module into which all the refactored classes and functions are moved. This module will be removed in 0.20.\n",
      "  DeprecationWarning)\n",
      "/home/akp47/anaconda3/lib/python3.6/site-packages/sklearn/learning_curve.py:22: DeprecationWarning: This module was deprecated in version 0.18 in favor of the model_selection module into which all the functions are moved. This module will be removed in 0.20\n",
      "  DeprecationWarning)\n"
     ]
    }
   ],
   "source": [
    "from prody import *\n",
    "from matplotlib.pylab import *\n",
    "from sklearn import*\n",
    "import sklearn\n",
    "import numpy \n",
    "import matplotlib.pyplot as plt; plt.rcdefaults()\n",
    "import matplotlib.pyplot as plt\n",
    "from __future__ import division\n",
    "import os\n",
    "import subprocess\n",
    "import copy\n",
    "import time\n",
    "import numpy as np\n",
    "import random as rand\n",
    "import scipy.sparse\n",
    "import scipy.sparse.linalg\n",
    "from scipy.sparse import csr_matrix as sparsify\n",
    "import matplotlib.pyplot as plt\n",
    "import matplotlib.image as mpimg\n",
    "import matplotlib.cm as cm\n",
    "from mpl_toolkits.mplot3d import Axes3D\n",
    "import colorsys\n",
    "import shutil\n",
    "from Bio.PDB.PDBParser import PDBParser\n",
    "from Bio import pairwise2\n",
    "from Bio import SeqIO\n",
    "from Bio.Seq import Seq\n",
    "from Bio.SeqRecord import SeqRecord\n",
    "from scipy.stats import t\n",
    "from scipy.stats import scoreatpercentile \n",
    "from optparse import OptionParser"
   ]
  },
  {
   "cell_type": "code",
   "execution_count": 2,
   "metadata": {
    "collapsed": true
   },
   "outputs": [],
   "source": [
    "ion()"
   ]
  },
  {
   "cell_type": "code",
   "execution_count": 3,
   "metadata": {},
   "outputs": [
    {
     "name": "stdout",
     "output_type": "stream",
     "text": [
      "93\n",
      "6210\n"
     ]
    }
   ],
   "source": [
    "# using the pickle file from HAN getting the refined sequences\n",
    "\n",
    "import _pickle as cPickle\n",
    "SEQ, consensus = cPickle.load(open(\"SEQ3_PF00028.pkl\",\"rb\"))\n",
    "print (len(consensus))\n",
    "print(len(SEQ))\n",
    "msa = numpy.asarray(SEQ)\n",
    "msa_refine = numpy.chararray((6210,93))\n",
    "for i in range(6210):\n",
    "    msa_refine[i] = msa[i]"
   ]
  },
  {
   "cell_type": "markdown",
   "metadata": {},
   "source": [
    "## Required functions "
   ]
  },
  {
   "cell_type": "code",
   "execution_count": 4,
   "metadata": {
    "collapsed": true
   },
   "outputs": [],
   "source": [
    "def pdbSeq(pdbid, chain='B', path2pdb='', calcDist=1):\n",
    "\n",
    "    ''' Extract sequence, position labels and matrix of distances from a PDB file.\n",
    "\n",
    "    \n",
    "\n",
    "    **Arguments:**\n",
    "\n",
    "       -  `pdbid` = PDB identifier (four letters/numbers)\n",
    "\n",
    "       -  `chain` = PDB chain identifier\n",
    "\n",
    "       -  `path2pdb` = location of the PDB file\n",
    "\n",
    "       -  `calcDist` = calculate a distance matrix between all pairs of positions, default is 1\n",
    "\n",
    "\n",
    "\n",
    "    :Example:\n",
    "\n",
    "       >>> sequence, labels, dist = pdbSeq(pdbid, chain='A', path2pdb=path2structures) '''\n",
    "\n",
    "    # Table of 3-letter to 1-letter code for amino acids\n",
    "\n",
    "    aatable = {'ALA': 'A', 'ARG': 'R', 'ASN': 'N', 'ASP': 'D', 'CYS': 'C', 'GLN': 'Q',\\\n",
    "\n",
    "     'GLU': 'E', 'GLY': 'G', 'HIS': 'H', 'ILE': 'I', 'LEU': 'L', 'LYS': 'K', 'MET': 'M',\\\n",
    "\n",
    "     'PHE': 'F', 'PRO': 'P', 'SER': 'S', 'THR': 'T', 'TRP': 'W', 'TYR': 'Y', 'VAL': 'V'}\n",
    "\n",
    "    # Read PDB structure:\n",
    "\n",
    "    structure = PDBParser().get_structure(pdbid, path2pdb+pdbid+'.pdb')\n",
    "\n",
    "    # Fill up sequence and label information\n",
    "\n",
    "    sequence = ''; labels = list()\n",
    "\n",
    "    residues = [res for res in structure[0][chain] if res.get_id()[0] == ' ']\n",
    "\n",
    "    for res in residues:\n",
    "\n",
    "        labels.append(str(res.get_id()[1])+str(res.get_id()[2]).strip())\n",
    "\n",
    "        try:\n",
    "\n",
    "            sequence += aatable[res.get_resname()]\n",
    "\n",
    "        except:\n",
    "\n",
    "            sequence += 'X'\n",
    "\n",
    "    # Distances between residues (minimal distance between atoms, in angstrom): \n",
    "\n",
    "    dist = np.zeros((len(residues), len(residues)))\n",
    "\n",
    "    if (calcDist == 1):\n",
    "\n",
    "        for n0, res0 in enumerate(residues):\n",
    "\n",
    "            for n1, res1 in enumerate(residues):\n",
    "\n",
    "                dist[n0,n1] = min([atom0 - atom1 for atom0 in res0 for atom1 in res1])\n",
    "\n",
    "        return sequence, labels, dist\n",
    "\n",
    "    else:\n",
    "\n",
    "        return sequence, labels\n",
    "    \n",
    "def readAlg(filename):\n",
    "    ''' Read in a multiple sequence alignment in fasta format, and return the \n",
    "    headers and sequences.\n",
    "    >>> headers, sequences = readAlg(filename) '''\n",
    "    filelines = open(filename, 'r').readlines()\n",
    "    headers = list(); sequences = list(); notfirst = 0\n",
    "    for line in filelines:\n",
    "        if line[0] == '>':\n",
    "            if notfirst > 0: sequences.append(seq.replace('\\n','').upper())\n",
    "            headers.append(line[1:].replace('\\n',''))\n",
    "            seq = ''; notfirst = 1\n",
    "        elif line != '\\n': seq += line\n",
    "    sequences.append(seq.replace('\\n','').upper())\n",
    "    return headers, sequences\n",
    "\n",
    "def makeATS(sequences, refpos, refseq, iref=0, truncate=False):\n",
    "    ''' If specified, truncate the alignment to the structure (assumes MSAsearch_ has already been run\n",
    "    to identify the reference sequence (iref)) and produce a mapping (ats) between alignment positions and the positions in the reference sequence (refpos).\n",
    "    \n",
    "    .. _MSAsearch: scaTools.html#scaTools.MSAsearch\n",
    "     **Arguments:**\n",
    "       -  sequences\n",
    "       -  reference positions \n",
    "       -  reference sequence\n",
    "       -  iref, the index of the sequence in the alignment with the highest identity to the reference\n",
    "    :Keyword Arguments:\n",
    "       truncate  -- truncate the alignment to positions that align to the reference sequence.\n",
    "    :Example:\n",
    "      >>> sequences_trun, ats_new = sca.makeATS(sequences_full, ats_pdb, seq_pdb, i_ref)\n",
    "    '''\n",
    "    if truncate == True:\n",
    "        print(\"truncating to reference sequence...\")\n",
    "        # Removing gaps:\n",
    "        pos_ref = [i for i,a in enumerate(refseq) if a != '-']\n",
    "        seq_ref = ''.join([refseq[i] for i in pos_ref])\n",
    "        ats_ref = [refpos[i] for i in pos_ref]\n",
    "        pos_alg = [i for i,a in enumerate(sequences[iref]) if a != '-']\n",
    "        seq_tr = [''.join([sq[i] for i in pos_alg]) for sq in sequences]\n",
    "        # Positions to keep in the alignment and pbd sequences\n",
    "        # (no gap in any of them after co-alignment):\n",
    "        seqal_ref, seqal_alg, _, _, _ = pairwise2.align.globalms(seq_ref, seq_tr[iref],\\\n",
    "                                         2, -1, -.5, -.1)[0]\n",
    "        keep_ref, keep_alg = list(), list()\n",
    "        j_ref, j_alg = 0, 0\n",
    "        for i in range(len(seqal_ref)):\n",
    "            if seqal_ref[i] != '-' and seqal_alg[i] != '-':\n",
    "                keep_ref.append(j_ref)\n",
    "                keep_alg.append(j_alg)\n",
    "            if seqal_ref[i] != '-': j_ref += 1\n",
    "            if seqal_alg[i] != '-': j_alg += 1\n",
    "        sequences_out = [''.join([sq[i] for i in keep_alg]) for sq in seq_tr]\n",
    "        ats_out = [ats_ref[i] for i in keep_ref]\n",
    "    else:\n",
    "        tmp = sequences[iref].replace('-','.')\n",
    "        refseq = refseq.replace('-','');\n",
    "        seqal_ref, seqal_alg, _, _, _ = pairwise2.align.globalms(refseq, tmp,\\\n",
    "                                         2, -1, -.5, -.1)[0]\n",
    "        print ('Len refseq %i, len refpos %i, Len alg seq %i, len pairalg %i, len gloalg %i' % (len(refseq),len(refpos), len(tmp),len(seqal_alg),len(sequences[0])))\n",
    "        #print seqal_ref\n",
    "        #print seqal_alg\n",
    "        ats_out = list()\n",
    "        j_ref = 0\n",
    "        j_pdb = 0\n",
    "        for i in range(len(seqal_alg)):\n",
    "            if seqal_alg[i] == '.' and seqal_ref[i] == '-':\n",
    "                ats_out.insert(j_ref,'-')\n",
    "                j_ref += 1\n",
    "            elif seqal_alg[i] != '.' and seqal_alg[i] != '-':\n",
    "                if seqal_ref[i] != '-':\n",
    "                    ats_out.insert(j_ref,refpos[j_pdb])\n",
    "                    j_ref += 1\n",
    "                    j_pdb += 1\n",
    "                else:\n",
    "                    ats_out.insert(j_ref,'-')\n",
    "                    j_ref += 1\n",
    "            elif seqal_alg[i] == '.' and seqal_ref[i] != '-':\n",
    "                ats_out.insert(j_ref, refpos[j_pdb])\n",
    "                j_ref += 1\n",
    "                j_pdb += 1\n",
    "            elif seqal_alg[i] == '-':\n",
    "                j_pdb += 1\n",
    "        sequences_out = sequences\n",
    "    return sequences_out, ats_out\n",
    "\n",
    "import scipy\n",
    "from scipy.stats import t\n",
    "from scipy.stats import scoreatpercentile \n",
    "\n",
    "def getCutoff(M, p_cut=None):\n",
    "    \n",
    "    eigenValues,eigenVectors = np.linalg.eigh(M)\n",
    "    idx = (-eigenValues).argsort()   \n",
    "    eigenValues = eigenValues[idx]\n",
    "    eigenVectors = eigenVectors[:,idx]\n",
    "    for k in range(eigenVectors.shape[1]):\n",
    "        if np.sign(np.mean(eigenVectors[:,k])) != 0:\n",
    "            eigenVectors[:,k] = np.sign(np.mean(eigenVectors[:,k]))*eigenVectors[:,k]\n",
    "    evpos = eigenVectors\n",
    "    evpos = np.around(evpos, decimals=4)\n",
    "    \n",
    "    \n",
    "    Npos = len(evpos)\n",
    "    cutoff = list()\n",
    "    scaled_pdf = list()\n",
    "    all_fits = list()\n",
    "    \n",
    "    k = 0;\n",
    "    \n",
    "    pd = scipy.stats.lognorm.fit(evpos[:,0])\n",
    "    \n",
    "    #pd = t.fit(evpos[:,k])\n",
    "    \n",
    "    all_fits.append(pd)\n",
    "    iqr = scoreatpercentile(evpos[:,k],75) - scoreatpercentile(evpos[:,k],25)\n",
    "    binwidth=2*iqr*(len(evpos[:,k])**(-0.33))\n",
    "    nbins=round((max(evpos[:,k])-min(evpos[:,k]))/binwidth)\n",
    "    \n",
    "    h_params = np.histogram(evpos[:,k], int(nbins))\n",
    "    \n",
    "    x_dist = np.linspace(min(h_params[1]), max(h_params[1]), num=100)\n",
    "    area_hist=Npos*(h_params[1][2]-h_params[1][1]);\n",
    "    \n",
    "    scaled_pdf.append(area_hist*(scipy.stats.lognorm.pdf(x_dist,pd[0],pd[1],pd[2])))\n",
    "    \n",
    "    #print(scaled_pdf)\n",
    "    cd = scipy.stats.lognorm.cdf(x_dist,pd[0],pd[1],pd[2])\n",
    "    tmp = scaled_pdf[k].argmax()\n",
    "    if abs(max(evpos[:,k])) > abs(min(evpos[:,k])):\n",
    "            tail = cd[tmp:len(cd)]\n",
    "    else:\n",
    "        cd = 1 - cd\n",
    "        tail = cd[0:tmp]\n",
    "    diff = abs(tail - p_cut);\n",
    "    x_pos = diff.argmin()\n",
    "    #print(x_pos)\n",
    "    cutoff.append(x_dist[x_pos+tmp])\n",
    "    return evpos, cutoff;\n",
    "\n",
    "def getResidues(evpos, cutoff=None):\n",
    "    \n",
    "    ind = [];\n",
    "    ind = (np.where(evpos[:,0] > cutoff))\n",
    "    ind = np.asarray(ind)\n",
    "    ind = ind + 18;\n",
    "    return ind;\n",
    "\n",
    "# Gives residues with high coevolution\n",
    "\n",
    "def getImpoRes(residues):\n",
    "    imp_res = []\n",
    "    for i in range (residues.shape[0]):\n",
    "        imp_res = (np.append(imp_res,(ats[residues[i]])))\n",
    "    return imp_res;\n",
    "\n",
    "# Gives Y observed to calculate F1 score\n",
    "\n",
    "def getAnnotations(impoRes,consensus):\n",
    "    consensus = consensus\n",
    "    impoRes= impoRes\n",
    "    annotations = np.in1d(consensus, impoRes)\n",
    "    y_observed = annotations.astype(int)\n",
    "    return y_observed;\n",
    "\n",
    "\n"
   ]
  },
  {
   "cell_type": "markdown",
   "metadata": {},
   "source": [
    "## Get Important Residues"
   ]
  },
  {
   "cell_type": "code",
   "execution_count": 5,
   "metadata": {},
   "outputs": [
    {
     "name": "stdout",
     "output_type": "stream",
     "text": [
      "Len refseq 114, len refpos 114, Len alg seq 93, len pairalg 168, len gloalg 93\n"
     ]
    }
   ],
   "source": [
    "seq_pdb, ats_pdb, dist_pdb = pdbSeq('2ee0', chain='A')\n",
    "headers, sequences = readAlg('PF00028.fasta')\n",
    "i_ref=1\n",
    "sequences, ats = makeATS(sequences, ats_pdb, seq_pdb, i_ref, truncate=False)"
   ]
  },
  {
   "cell_type": "markdown",
   "metadata": {},
   "source": [
    "### SCA "
   ]
  },
  {
   "cell_type": "code",
   "execution_count": 6,
   "metadata": {},
   "outputs": [
    {
     "name": "stderr",
     "output_type": "stream",
     "text": [
      "@> SCA matrix was calculated in 0.17s.\n"
     ]
    },
    {
     "data": {
      "text/plain": [
       "array([ 18,  24,  25,  29,  35,  37,  39,  41,  43,  45,  50,  61,  68,\n",
       "        70,  77,  79,  84,  90,  92,  95,  97, 105])"
      ]
     },
     "execution_count": 6,
     "metadata": {},
     "output_type": "execute_result"
    }
   ],
   "source": [
    "SCA_matrix = buildSCAMatrix(msa_refine, turbo=False)\n",
    "evpos_sca, cutoff_sca = getCutoff(M=SCA_matrix,p_cut=0.80)\n",
    "cutoff_sca\n",
    "imp_res_sca = getResidues(evpos=evpos_sca, cutoff=cutoff_sca)\n",
    "imp_res_sca = imp_res_sca[0]\n",
    "imp_res_sca"
   ]
  },
  {
   "cell_type": "markdown",
   "metadata": {},
   "source": [
    "### MI"
   ]
  },
  {
   "cell_type": "code",
   "execution_count": 7,
   "metadata": {},
   "outputs": [
    {
     "name": "stderr",
     "output_type": "stream",
     "text": [
      "@> Mutual information matrix was calculated in 0.09s.\n"
     ]
    },
    {
     "data": {
      "text/plain": [
       "array([ 21,  26,  33,  42,  43,  46,  47,  55,  58,  60,  93,  97,  99,\n",
       "       100, 102, 103, 106, 108])"
      ]
     },
     "execution_count": 7,
     "metadata": {},
     "output_type": "execute_result"
    }
   ],
   "source": [
    "mi_matrix = buildMutinfoMatrix(msa_refine)\n",
    "evpos_mi, cutoff_mi = getCutoff(M=mi_matrix,p_cut=0.80)\n",
    "cutoff_mi\n",
    "imp_res_mi = getResidues(evpos=evpos_mi, cutoff=cutoff_mi)\n",
    "imp_res_mi = imp_res_mi[0]\n",
    "imp_res_mi"
   ]
  },
  {
   "cell_type": "markdown",
   "metadata": {},
   "source": [
    "### PSICOV"
   ]
  },
  {
   "cell_type": "code",
   "execution_count": 8,
   "metadata": {},
   "outputs": [
    {
     "name": "stderr",
     "output_type": "stream",
     "text": [
      "@> PC matrix was calculated in 8.58s.\n"
     ]
    },
    {
     "data": {
      "text/plain": [
       "array([ 20,  26,  33,  46,  47,  55,  56,  60,  72,  74,  78,  82,  86,\n",
       "        89,  93, 103])"
      ]
     },
     "execution_count": 8,
     "metadata": {},
     "output_type": "execute_result"
    }
   ],
   "source": [
    "psicov_matrix = buildPCMatrix(msa_refine)\n",
    "evpos_psicov, cutoff_psicov = getCutoff(M=psicov_matrix,p_cut=0.80)\n",
    "cutoff_psicov\n",
    "imp_res_psicov = getResidues(evpos=evpos_psicov, cutoff=cutoff_psicov)\n",
    "imp_res_psicov = imp_res_psicov[0]\n",
    "imp_res_psicov"
   ]
  },
  {
   "cell_type": "markdown",
   "metadata": {},
   "source": [
    "### OMES"
   ]
  },
  {
   "cell_type": "code",
   "execution_count": 9,
   "metadata": {},
   "outputs": [
    {
     "name": "stderr",
     "output_type": "stream",
     "text": [
      "@> OMES matrix was calculated in 0.05s.\n"
     ]
    },
    {
     "data": {
      "text/plain": [
       "array([ 26,  32,  33,  34,  35,  41,  43,  46,  60,  72,  92, 101, 102,\n",
       "       103, 105, 106, 109])"
      ]
     },
     "execution_count": 9,
     "metadata": {},
     "output_type": "execute_result"
    }
   ],
   "source": [
    "omes_matrix = buildOMESMatrix(msa_refine)\n",
    "evpos_omes, cutoff_omes = getCutoff(M=omes_matrix,p_cut=0.80)\n",
    "cutoff_omes\n",
    "imp_res_omes = getResidues(evpos=evpos_omes, cutoff=cutoff_omes)\n",
    "imp_res_omes = imp_res_omes[0]\n",
    "imp_res_omes"
   ]
  },
  {
   "cell_type": "markdown",
   "metadata": {},
   "source": [
    "## DCA"
   ]
  },
  {
   "cell_type": "code",
   "execution_count": 10,
   "metadata": {},
   "outputs": [
    {
     "name": "stderr",
     "output_type": "stream",
     "text": [
      "@> DI matrix was calculated in 4.60s.\n"
     ]
    },
    {
     "data": {
      "text/plain": [
       "array([ 19,  20,  24,  33,  39,  41,  42,  43,  77,  79,  92,  95,  96,\n",
       "        97,  98,  99, 100, 102, 103, 104, 106])"
      ]
     },
     "execution_count": 10,
     "metadata": {},
     "output_type": "execute_result"
    }
   ],
   "source": [
    "di_matrix = buildDirectInfoMatrix(msa_refine)\n",
    "evpos_di, cutoff_di = getCutoff(M=di_matrix,p_cut=0.80)\n",
    "cutoff_di\n",
    "imp_res_di = getResidues(evpos=evpos_di, cutoff=cutoff_di)\n",
    "imp_res_di = imp_res_di[0]\n",
    "imp_res_di"
   ]
  },
  {
   "cell_type": "markdown",
   "metadata": {},
   "source": [
    "## y Observed"
   ]
  },
  {
   "cell_type": "markdown",
   "metadata": {},
   "source": [
    "### SCA"
   ]
  },
  {
   "cell_type": "code",
   "execution_count": 11,
   "metadata": {},
   "outputs": [
    {
     "data": {
      "text/plain": [
       "array([ 18,  19,  20,  21,  22,  23,  24,  25,  26,  27,  28,  29,  30,\n",
       "        31,  32,  33,  34,  35,  36,  37,  38,  39,  40,  41,  42,  43,\n",
       "        44,  45,  46,  47,  48,  49,  50,  51,  52,  53,  54,  55,  56,\n",
       "        57,  58,  59,  60,  61,  62,  63,  64,  65,  66,  67,  68,  69,\n",
       "        70,  71,  72,  73,  74,  75,  76,  77,  78,  79,  80,  81,  82,\n",
       "        83,  84,  85,  86,  87,  88,  89,  90,  91,  92,  93,  94,  95,\n",
       "        96,  97,  98,  99, 100, 101, 102, 103, 104, 105, 106, 107, 108,\n",
       "       109, 110])"
      ]
     },
     "execution_count": 11,
     "metadata": {},
     "output_type": "execute_result"
    }
   ],
   "source": [
    "evpos_sca_cons,cutoff_sca_cons = getCutoff(M=SCA_matrix,p_cut=0.8)\n",
    "cons_sca = getResidues(evpos=evpos_sca_cons,cutoff=0)\n",
    "cons_sca = cons_sca[0]\n",
    "cons_sca"
   ]
  },
  {
   "cell_type": "code",
   "execution_count": 12,
   "metadata": {},
   "outputs": [
    {
     "data": {
      "text/plain": [
       "array([1, 0, 0, 0, 0, 0, 1, 1, 0, 0, 0, 1, 0, 0, 0, 0, 0, 1, 0, 1, 0, 1,\n",
       "       0, 1, 0, 1, 0, 1, 0, 0, 0, 0, 1, 0, 0, 0, 0, 0, 0, 0, 0, 0, 0, 1,\n",
       "       0, 0, 0, 0, 0, 0, 1, 0, 1, 0, 0, 0, 0, 0, 0, 1, 0, 1, 0, 0, 0, 0,\n",
       "       1, 0, 0, 0, 0, 0, 1, 0, 1, 0, 0, 1, 0, 1, 0, 0, 0, 0, 0, 0, 0, 1,\n",
       "       0, 0, 0, 0, 0])"
      ]
     },
     "execution_count": 12,
     "metadata": {},
     "output_type": "execute_result"
    }
   ],
   "source": [
    "y_sca = getAnnotations(imp_res_sca,cons_sca)\n",
    "y_sca"
   ]
  },
  {
   "cell_type": "markdown",
   "metadata": {},
   "source": [
    "### MI"
   ]
  },
  {
   "cell_type": "code",
   "execution_count": 13,
   "metadata": {},
   "outputs": [
    {
     "data": {
      "text/plain": [
       "array([ 18,  19,  20,  21,  22,  23,  24,  25,  26,  27,  28,  29,  30,\n",
       "        31,  32,  33,  34,  35,  36,  37,  38,  39,  40,  41,  42,  43,\n",
       "        44,  45,  46,  47,  48,  49,  50,  51,  52,  53,  54,  55,  56,\n",
       "        57,  58,  59,  60,  61,  62,  63,  64,  65,  66,  67,  68,  69,\n",
       "        70,  71,  72,  73,  74,  75,  76,  77,  78,  79,  80,  81,  82,\n",
       "        83,  84,  85,  86,  87,  88,  89,  90,  91,  92,  93,  94,  95,\n",
       "        96,  97,  98,  99, 100, 101, 102, 103, 104, 105, 106, 107, 108,\n",
       "       109, 110])"
      ]
     },
     "execution_count": 13,
     "metadata": {},
     "output_type": "execute_result"
    }
   ],
   "source": [
    "evpos_mi_cons,cutoff_mi_cons = getCutoff(M=SCA_matrix,p_cut=0.80)\n",
    "cons_mi = getResidues(evpos=evpos_mi_cons,cutoff=0)\n",
    "cons_mi = cons_mi[0]\n",
    "cons_mi"
   ]
  },
  {
   "cell_type": "code",
   "execution_count": 14,
   "metadata": {},
   "outputs": [
    {
     "data": {
      "text/plain": [
       "array([0, 0, 0, 1, 0, 0, 0, 0, 1, 0, 0, 0, 0, 0, 0, 1, 0, 0, 0, 0, 0, 0,\n",
       "       0, 0, 1, 1, 0, 0, 1, 1, 0, 0, 0, 0, 0, 0, 0, 1, 0, 0, 1, 0, 1, 0,\n",
       "       0, 0, 0, 0, 0, 0, 0, 0, 0, 0, 0, 0, 0, 0, 0, 0, 0, 0, 0, 0, 0, 0,\n",
       "       0, 0, 0, 0, 0, 0, 0, 0, 0, 1, 0, 0, 0, 1, 0, 1, 1, 0, 1, 1, 0, 0,\n",
       "       1, 0, 1, 0, 0])"
      ]
     },
     "execution_count": 14,
     "metadata": {},
     "output_type": "execute_result"
    }
   ],
   "source": [
    "y_mi = getAnnotations(imp_res_mi,cons_mi)\n",
    "y_mi"
   ]
  },
  {
   "cell_type": "markdown",
   "metadata": {},
   "source": [
    "### PSICOV"
   ]
  },
  {
   "cell_type": "code",
   "execution_count": 15,
   "metadata": {},
   "outputs": [
    {
     "data": {
      "text/plain": [
       "array([ 18,  19,  20,  21,  22,  23,  24,  25,  26,  27,  28,  29,  30,\n",
       "        31,  32,  33,  34,  35,  36,  37,  38,  39,  40,  41,  42,  43,\n",
       "        44,  45,  46,  47,  48,  49,  50,  51,  52,  53,  54,  55,  56,\n",
       "        57,  58,  59,  60,  61,  62,  63,  64,  65,  66,  67,  68,  69,\n",
       "        70,  71,  72,  73,  74,  75,  76,  77,  78,  79,  80,  81,  82,\n",
       "        83,  84,  85,  86,  87,  88,  89,  90,  91,  92,  93,  94,  95,\n",
       "        96,  97,  98,  99, 100, 101, 102, 103, 104, 105, 106, 107, 108,\n",
       "       109, 110])"
      ]
     },
     "execution_count": 15,
     "metadata": {},
     "output_type": "execute_result"
    }
   ],
   "source": [
    "evpos_psicov_cons,cutoff_psicov_cons = getCutoff(M=SCA_matrix,p_cut=0.80)\n",
    "cons_psicov = getResidues(evpos=evpos_psicov_cons,cutoff=0)\n",
    "cons_psicov = cons_psicov[0]\n",
    "cons_psicov"
   ]
  },
  {
   "cell_type": "code",
   "execution_count": 16,
   "metadata": {},
   "outputs": [
    {
     "data": {
      "text/plain": [
       "array([0, 0, 1, 0, 0, 0, 0, 0, 1, 0, 0, 0, 0, 0, 0, 1, 0, 0, 0, 0, 0, 0,\n",
       "       0, 0, 0, 0, 0, 0, 1, 1, 0, 0, 0, 0, 0, 0, 0, 1, 1, 0, 0, 0, 1, 0,\n",
       "       0, 0, 0, 0, 0, 0, 0, 0, 0, 0, 1, 0, 1, 0, 0, 0, 1, 0, 0, 0, 1, 0,\n",
       "       0, 0, 1, 0, 0, 1, 0, 0, 0, 1, 0, 0, 0, 0, 0, 0, 0, 0, 0, 1, 0, 0,\n",
       "       0, 0, 0, 0, 0])"
      ]
     },
     "execution_count": 16,
     "metadata": {},
     "output_type": "execute_result"
    }
   ],
   "source": [
    "y_psicov = getAnnotations(imp_res_psicov,cons_psicov)\n",
    "y_psicov"
   ]
  },
  {
   "cell_type": "markdown",
   "metadata": {},
   "source": [
    "### OMES"
   ]
  },
  {
   "cell_type": "code",
   "execution_count": 17,
   "metadata": {},
   "outputs": [
    {
     "data": {
      "text/plain": [
       "array([ 18,  19,  20,  21,  22,  23,  24,  25,  26,  27,  28,  29,  30,\n",
       "        31,  32,  33,  34,  35,  36,  37,  38,  39,  40,  41,  42,  43,\n",
       "        44,  45,  46,  47,  48,  49,  50,  51,  52,  53,  54,  55,  56,\n",
       "        57,  58,  59,  60,  61,  62,  63,  64,  65,  66,  67,  68,  69,\n",
       "        70,  71,  72,  73,  74,  75,  76,  77,  78,  79,  80,  81,  82,\n",
       "        83,  84,  85,  86,  87,  88,  89,  90,  91,  92,  93,  94,  95,\n",
       "        96,  97,  98,  99, 100, 101, 102, 103, 104, 105, 106, 107, 108,\n",
       "       109, 110])"
      ]
     },
     "execution_count": 17,
     "metadata": {},
     "output_type": "execute_result"
    }
   ],
   "source": [
    "evpos_omes_cons,cutoff_omes_psicov = getCutoff(M=SCA_matrix,p_cut=0.80)\n",
    "cons_omes = getResidues(evpos=evpos_omes_cons,cutoff=0)\n",
    "cons_omes = cons_omes[0]\n",
    "cons_omes"
   ]
  },
  {
   "cell_type": "code",
   "execution_count": 18,
   "metadata": {},
   "outputs": [
    {
     "data": {
      "text/plain": [
       "array([0, 0, 0, 0, 0, 0, 0, 0, 1, 0, 0, 0, 0, 0, 1, 1, 1, 1, 0, 0, 0, 0,\n",
       "       0, 1, 0, 1, 0, 0, 1, 0, 0, 0, 0, 0, 0, 0, 0, 0, 0, 0, 0, 0, 1, 0,\n",
       "       0, 0, 0, 0, 0, 0, 0, 0, 0, 0, 1, 0, 0, 0, 0, 0, 0, 0, 0, 0, 0, 0,\n",
       "       0, 0, 0, 0, 0, 0, 0, 0, 1, 0, 0, 0, 0, 0, 0, 0, 0, 1, 1, 1, 0, 1,\n",
       "       1, 0, 0, 1, 0])"
      ]
     },
     "execution_count": 18,
     "metadata": {},
     "output_type": "execute_result"
    }
   ],
   "source": [
    "y_omes = getAnnotations(imp_res_omes,cons_omes)\n",
    "y_omes"
   ]
  },
  {
   "cell_type": "markdown",
   "metadata": {},
   "source": [
    "## DCA"
   ]
  },
  {
   "cell_type": "code",
   "execution_count": 19,
   "metadata": {},
   "outputs": [
    {
     "data": {
      "text/plain": [
       "array([ 18,  19,  20,  21,  22,  23,  24,  25,  26,  27,  28,  29,  30,\n",
       "        31,  32,  33,  34,  35,  36,  37,  38,  39,  40,  41,  42,  43,\n",
       "        44,  45,  46,  47,  48,  49,  50,  51,  52,  53,  54,  55,  56,\n",
       "        57,  58,  59,  60,  61,  62,  63,  64,  65,  66,  67,  68,  69,\n",
       "        70,  71,  72,  73,  74,  75,  76,  77,  78,  79,  80,  81,  82,\n",
       "        83,  84,  85,  86,  87,  88,  89,  90,  91,  92,  93,  94,  95,\n",
       "        96,  97,  98,  99, 100, 101, 102, 103, 104, 105, 106, 107, 108,\n",
       "       109, 110])"
      ]
     },
     "execution_count": 19,
     "metadata": {},
     "output_type": "execute_result"
    }
   ],
   "source": [
    "evpos_di_cons,cutoff_di_psicov = getCutoff(M=di_matrix,p_cut=0.80)\n",
    "cons_di = getResidues(evpos=evpos_omes_cons,cutoff=0)\n",
    "cons_di = cons_di[0]\n",
    "cons_di"
   ]
  },
  {
   "cell_type": "code",
   "execution_count": 20,
   "metadata": {},
   "outputs": [
    {
     "data": {
      "text/plain": [
       "array([0, 1, 1, 0, 0, 0, 1, 0, 0, 0, 0, 0, 0, 0, 0, 1, 0, 0, 0, 0, 0, 1,\n",
       "       0, 1, 1, 1, 0, 0, 0, 0, 0, 0, 0, 0, 0, 0, 0, 0, 0, 0, 0, 0, 0, 0,\n",
       "       0, 0, 0, 0, 0, 0, 0, 0, 0, 0, 0, 0, 0, 0, 0, 1, 0, 1, 0, 0, 0, 0,\n",
       "       0, 0, 0, 0, 0, 0, 0, 0, 1, 0, 0, 1, 1, 1, 1, 1, 1, 0, 1, 1, 1, 0,\n",
       "       1, 0, 0, 0, 0])"
      ]
     },
     "execution_count": 20,
     "metadata": {},
     "output_type": "execute_result"
    }
   ],
   "source": [
    "y_di = getAnnotations(imp_res_di,cons_di)\n",
    "y_di"
   ]
  }
 ],
 "metadata": {
  "anaconda-cloud": {},
  "kernelspec": {
   "display_name": "Python 3",
   "language": "python",
   "name": "python3"
  },
  "language_info": {
   "codemirror_mode": {
    "name": "ipython",
    "version": 3
   },
   "file_extension": ".py",
   "mimetype": "text/x-python",
   "name": "python",
   "nbconvert_exporter": "python",
   "pygments_lexer": "ipython3",
   "version": "3.6.5"
  }
 },
 "nbformat": 4,
 "nbformat_minor": 2
}
