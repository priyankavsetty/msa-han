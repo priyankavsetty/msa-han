{
 "cells": [
  {
   "cell_type": "code",
   "execution_count": 1,
   "metadata": {
    "collapsed": false
   },
   "outputs": [
    {
     "name": "stderr",
     "output_type": "stream",
     "text": [
      "/home/akp47/anaconda3/lib/python3.6/site-packages/sklearn/cross_validation.py:41: DeprecationWarning: This module was deprecated in version 0.18 in favor of the model_selection module into which all the refactored classes and functions are moved. Also note that the interface of the new CV iterators are different from that of this module. This module will be removed in 0.20.\n",
      "  \"This module will be removed in 0.20.\", DeprecationWarning)\n",
      "/home/akp47/anaconda3/lib/python3.6/site-packages/sklearn/grid_search.py:42: DeprecationWarning: This module was deprecated in version 0.18 in favor of the model_selection module into which all the refactored classes and functions are moved. This module will be removed in 0.20.\n",
      "  DeprecationWarning)\n",
      "/home/akp47/anaconda3/lib/python3.6/site-packages/sklearn/learning_curve.py:22: DeprecationWarning: This module was deprecated in version 0.18 in favor of the model_selection module into which all the functions are moved. This module will be removed in 0.20\n",
      "  DeprecationWarning)\n"
     ]
    }
   ],
   "source": [
    "from prody import *\n",
    "from matplotlib.pylab import *\n",
    "from sklearn import*\n",
    "import sklearn\n",
    "import numpy \n",
    "import matplotlib.pyplot as plt; plt.rcdefaults()\n",
    "import matplotlib.pyplot as plt"
   ]
  },
  {
   "cell_type": "code",
   "execution_count": 2,
   "metadata": {
    "collapsed": true
   },
   "outputs": [],
   "source": [
    "from __future__ import division\n",
    "import os\n",
    "import subprocess\n",
    "import copy\n",
    "import time\n",
    "import numpy as np\n",
    "import random as rand\n",
    "import scipy.sparse\n",
    "import scipy.sparse.linalg\n",
    "from scipy.sparse import csr_matrix as sparsify\n",
    "import matplotlib.pyplot as plt\n",
    "import matplotlib.image as mpimg\n",
    "import matplotlib.cm as cm\n",
    "from mpl_toolkits.mplot3d import Axes3D\n",
    "import colorsys\n",
    "import shutil\n",
    "from Bio.PDB.PDBParser import PDBParser\n",
    "from Bio import pairwise2\n",
    "from Bio import SeqIO\n",
    "from Bio.Seq import Seq\n",
    "from Bio.SeqRecord import SeqRecord\n",
    "from scipy.stats import t\n",
    "from scipy.stats import scoreatpercentile \n",
    "from optparse import OptionParser"
   ]
  },
  {
   "cell_type": "code",
   "execution_count": 3,
   "metadata": {
    "collapsed": true
   },
   "outputs": [],
   "source": [
    "ion()"
   ]
  },
  {
   "cell_type": "code",
   "execution_count": 4,
   "metadata": {
    "collapsed": false
   },
   "outputs": [
    {
     "name": "stdout",
     "output_type": "stream",
     "text": [
      "381\n",
      "6553\n"
     ]
    }
   ],
   "source": [
    "# using the pickle file from HAN getting the refined sequences\n",
    "\n",
    "import _pickle as cPickle\n",
    "SEQ, consensus = cPickle.load(open(\"SEQ3_HSP70.pkl\",\"rb\"))\n",
    "print (len(consensus))\n",
    "print(len(SEQ))"
   ]
  },
  {
   "cell_type": "code",
   "execution_count": 5,
   "metadata": {
    "collapsed": true
   },
   "outputs": [],
   "source": [
    "msa = numpy.asarray(SEQ)"
   ]
  },
  {
   "cell_type": "code",
   "execution_count": 6,
   "metadata": {
    "collapsed": true
   },
   "outputs": [],
   "source": [
    "msa_refine = numpy.chararray((6553,381))\n",
    "for i in range(6553):\n",
    "    msa_refine[i] = msa[i]"
   ]
  },
  {
   "cell_type": "markdown",
   "metadata": {},
   "source": [
    "## Required functions from pySCA"
   ]
  },
  {
   "cell_type": "code",
   "execution_count": 7,
   "metadata": {
    "collapsed": true
   },
   "outputs": [],
   "source": [
    "def pdbSeq(pdbid, chain='A', path2pdb='', calcDist=1):\n",
    "\n",
    "    ''' Extract sequence, position labels and matrix of distances from a PDB file.\n",
    "\n",
    "    \n",
    "\n",
    "    **Arguments:**\n",
    "\n",
    "       -  `pdbid` = PDB identifier (four letters/numbers)\n",
    "\n",
    "       -  `chain` = PDB chain identifier\n",
    "\n",
    "       -  `path2pdb` = location of the PDB file\n",
    "\n",
    "       -  `calcDist` = calculate a distance matrix between all pairs of positions, default is 1\n",
    "\n",
    "\n",
    "\n",
    "    :Example:\n",
    "\n",
    "       >>> sequence, labels, dist = pdbSeq(pdbid, chain='A', path2pdb=path2structures) '''\n",
    "\n",
    "    # Table of 3-letter to 1-letter code for amino acids\n",
    "\n",
    "    aatable = {'ALA': 'A', 'ARG': 'R', 'ASN': 'N', 'ASP': 'D', 'CYS': 'C', 'GLN': 'Q',\\\n",
    "\n",
    "     'GLU': 'E', 'GLY': 'G', 'HIS': 'H', 'ILE': 'I', 'LEU': 'L', 'LYS': 'K', 'MET': 'M',\\\n",
    "\n",
    "     'PHE': 'F', 'PRO': 'P', 'SER': 'S', 'THR': 'T', 'TRP': 'W', 'TYR': 'Y', 'VAL': 'V'}\n",
    "\n",
    "    # Read PDB structure:\n",
    "\n",
    "    structure = PDBParser().get_structure(pdbid, path2pdb+pdbid+'.pdb')\n",
    "\n",
    "    # Fill up sequence and label information\n",
    "\n",
    "    sequence = ''; labels = list()\n",
    "\n",
    "    residues = [res for res in structure[0][chain] if res.get_id()[0] == ' ']\n",
    "\n",
    "    for res in residues:\n",
    "\n",
    "        labels.append(str(res.get_id()[1])+str(res.get_id()[2]).strip())\n",
    "\n",
    "        try:\n",
    "\n",
    "            sequence += aatable[res.get_resname()]\n",
    "\n",
    "        except:\n",
    "\n",
    "            sequence += 'X'\n",
    "\n",
    "    # Distances between residues (minimal distance between atoms, in angstrom): \n",
    "\n",
    "    dist = np.zeros((len(residues), len(residues)))\n",
    "\n",
    "    if (calcDist == 1):\n",
    "\n",
    "        for n0, res0 in enumerate(residues):\n",
    "\n",
    "            for n1, res1 in enumerate(residues):\n",
    "\n",
    "                dist[n0,n1] = min([atom0 - atom1 for atom0 in res0 for atom1 in res1])\n",
    "\n",
    "        return sequence, labels, dist\n",
    "\n",
    "    else:\n",
    "\n",
    "        return sequence, labels\n",
    "    \n",
    "def readAlg(filename):\n",
    "    ''' Read in a multiple sequence alignment in fasta format, and return the \n",
    "    headers and sequences.\n",
    "    >>> headers, sequences = readAlg(filename) '''\n",
    "    filelines = open(filename, 'r').readlines()\n",
    "    headers = list(); sequences = list(); notfirst = 0\n",
    "    for line in filelines:\n",
    "        if line[0] == '>':\n",
    "            if notfirst > 0: sequences.append(seq.replace('\\n','').upper())\n",
    "            headers.append(line[1:].replace('\\n',''))\n",
    "            seq = ''; notfirst = 1\n",
    "        elif line != '\\n': seq += line\n",
    "    sequences.append(seq.replace('\\n','').upper())\n",
    "    return headers, sequences\n",
    "\n",
    "def makeATS(sequences, refpos, refseq, iref=0, truncate=False):\n",
    "    ''' If specified, truncate the alignment to the structure (assumes MSAsearch_ has already been run\n",
    "    to identify the reference sequence (iref)) and produce a mapping (ats) between alignment positions and the positions in the reference sequence (refpos).\n",
    "    \n",
    "    .. _MSAsearch: scaTools.html#scaTools.MSAsearch\n",
    "     **Arguments:**\n",
    "       -  sequences\n",
    "       -  reference positions \n",
    "       -  reference sequence\n",
    "       -  iref, the index of the sequence in the alignment with the highest identity to the reference\n",
    "    :Keyword Arguments:\n",
    "       truncate  -- truncate the alignment to positions that align to the reference sequence.\n",
    "    :Example:\n",
    "      >>> sequences_trun, ats_new = sca.makeATS(sequences_full, ats_pdb, seq_pdb, i_ref)\n",
    "    '''\n",
    "    if truncate == True:\n",
    "        print(\"truncating to reference sequence...\")\n",
    "        # Removing gaps:\n",
    "        pos_ref = [i for i,a in enumerate(refseq) if a != '-']\n",
    "        seq_ref = ''.join([refseq[i] for i in pos_ref])\n",
    "        ats_ref = [refpos[i] for i in pos_ref]\n",
    "        pos_alg = [i for i,a in enumerate(sequences[iref]) if a != '-']\n",
    "        seq_tr = [''.join([sq[i] for i in pos_alg]) for sq in sequences]\n",
    "        # Positions to keep in the alignment and pbd sequences\n",
    "        # (no gap in any of them after co-alignment):\n",
    "        seqal_ref, seqal_alg, _, _, _ = pairwise2.align.globalms(seq_ref, seq_tr[iref],\\\n",
    "                                         2, -1, -.5, -.1)[0]\n",
    "        keep_ref, keep_alg = list(), list()\n",
    "        j_ref, j_alg = 0, 0\n",
    "        for i in range(len(seqal_ref)):\n",
    "            if seqal_ref[i] != '-' and seqal_alg[i] != '-':\n",
    "                keep_ref.append(j_ref)\n",
    "                keep_alg.append(j_alg)\n",
    "            if seqal_ref[i] != '-': j_ref += 1\n",
    "            if seqal_alg[i] != '-': j_alg += 1\n",
    "        sequences_out = [''.join([sq[i] for i in keep_alg]) for sq in seq_tr]\n",
    "        ats_out = [ats_ref[i] for i in keep_ref]\n",
    "    else:\n",
    "        tmp = sequences[iref].replace('-','.')\n",
    "        refseq = refseq.replace('-','');\n",
    "        seqal_ref, seqal_alg, _, _, _ = pairwise2.align.globalms(refseq, tmp,\\\n",
    "                                         2, -1, -.5, -.1)[0]\n",
    "        print ('Len refseq %i, len refpos %i, Len alg seq %i, len pairalg %i, len gloalg %i' % (len(refseq),len(refpos), len(tmp),len(seqal_alg),len(sequences[0])))\n",
    "        #print seqal_ref\n",
    "        #print seqal_alg\n",
    "        ats_out = list()\n",
    "        j_ref = 0\n",
    "        j_pdb = 0\n",
    "        for i in range(len(seqal_alg)):\n",
    "            if seqal_alg[i] == '.' and seqal_ref[i] == '-':\n",
    "                ats_out.insert(j_ref,'-')\n",
    "                j_ref += 1\n",
    "            elif seqal_alg[i] != '.' and seqal_alg[i] != '-':\n",
    "                if seqal_ref[i] != '-':\n",
    "                    ats_out.insert(j_ref,refpos[j_pdb])\n",
    "                    j_ref += 1\n",
    "                    j_pdb += 1\n",
    "                else:\n",
    "                    ats_out.insert(j_ref,'-')\n",
    "                    j_ref += 1\n",
    "            elif seqal_alg[i] == '.' and seqal_ref[i] != '-':\n",
    "                ats_out.insert(j_ref, refpos[j_pdb])\n",
    "                j_ref += 1\n",
    "                j_pdb += 1\n",
    "            elif seqal_alg[i] == '-':\n",
    "                j_pdb += 1\n",
    "        sequences_out = sequences\n",
    "    return sequences_out, ats_out\n",
    "\n",
    "import scipy\n",
    "from scipy.stats import t\n",
    "from scipy.stats import scoreatpercentile \n",
    "\n",
    "def getCutoff(M, p_cut=None):\n",
    "    \n",
    "    eigenValues,eigenVectors = np.linalg.eigh(M)\n",
    "    idx = (-eigenValues).argsort()   \n",
    "    eigenValues = eigenValues[idx]\n",
    "    eigenVectors = eigenVectors[:,idx]\n",
    "    for k in range(eigenVectors.shape[1]):\n",
    "        if np.sign(np.mean(eigenVectors[:,k])) != 0:\n",
    "            eigenVectors[:,k] = np.sign(np.mean(eigenVectors[:,k]))*eigenVectors[:,k]\n",
    "    evpos = eigenVectors\n",
    "    evpos = np.around(evpos, decimals=4)\n",
    "    \n",
    "    \n",
    "    Npos = len(evpos)\n",
    "    cutoff = list()\n",
    "    scaled_pdf = list()\n",
    "    all_fits = list()\n",
    "    \n",
    "    k = 0;\n",
    "    \n",
    "    pd = scipy.stats.lognorm.fit(evpos[:,0])\n",
    "    \n",
    "    #pd = t.fit(evpos[:,k])\n",
    "    \n",
    "    all_fits.append(pd)\n",
    "    iqr = scoreatpercentile(evpos[:,k],75) - scoreatpercentile(evpos[:,k],25)\n",
    "    binwidth=2*iqr*(len(evpos[:,k])**(-0.33))\n",
    "    nbins=round((max(evpos[:,k])-min(evpos[:,k]))/binwidth)\n",
    "    \n",
    "    h_params = np.histogram(evpos[:,k], int(nbins))\n",
    "    \n",
    "    x_dist = np.linspace(min(h_params[1]), max(h_params[1]), num=100)\n",
    "    area_hist=Npos*(h_params[1][2]-h_params[1][1]);\n",
    "    \n",
    "    scaled_pdf.append(area_hist*(scipy.stats.lognorm.pdf(x_dist,pd[0],pd[1],pd[2])))\n",
    "    \n",
    "    #print(scaled_pdf)\n",
    "    cd = scipy.stats.lognorm.cdf(x_dist,pd[0],pd[1],pd[2])\n",
    "    tmp = scaled_pdf[k].argmax()\n",
    "    if abs(max(evpos[:,k])) > abs(min(evpos[:,k])):\n",
    "            tail = cd[tmp:len(cd)]\n",
    "    else:\n",
    "        cd = 1 - cd\n",
    "        tail = cd[0:tmp]\n",
    "    diff = abs(tail - p_cut);\n",
    "    x_pos = diff.argmin()\n",
    "    #print(x_pos)\n",
    "    cutoff.append(x_dist[x_pos+tmp])\n",
    "    return evpos, cutoff;\n",
    "\n",
    "def getResidues(evpos, cutoff=None):\n",
    "    \n",
    "    ind = [];\n",
    "    ind = (np.where(evpos[:,0] > cutoff))\n",
    "    #print(ind)\n",
    "    return ind;\n",
    "\n",
    "# Gives residues with high coevolution\n",
    "\n",
    "def getImpoRes(residues):\n",
    "    imp_res = []\n",
    "    for i in range (residues.shape[0]):\n",
    "        imp_res = (np.append(imp_res,(ats[residues[i]])))\n",
    "    return imp_res;\n",
    "\n",
    "# Gives Y observed to calculate F1 score\n",
    "\n",
    "def getAnnotations(impoRes,consensus):\n",
    "    consensus = consensus\n",
    "    impoRes= impoRes\n",
    "    annotations = np.in1d(consensus, impoRes)\n",
    "    y_observed = annotations.astype(int)\n",
    "    return y_observed;\n",
    "\n",
    "\n"
   ]
  },
  {
   "cell_type": "markdown",
   "metadata": {},
   "source": [
    "## Get Important Residues"
   ]
  },
  {
   "cell_type": "code",
   "execution_count": 15,
   "metadata": {
    "collapsed": false
   },
   "outputs": [
    {
     "name": "stdout",
     "output_type": "stream",
     "text": [
      "Len refseq 380, len refpos 380, Len alg seq 382, len pairalg 430, len gloalg 382\n"
     ]
    }
   ],
   "source": [
    "seq_pdb, ats_pdb, dist_pdb = pdbSeq('1s3x', chain='A')\n",
    "headers, sequences = readAlg('HSP70.fasta')\n",
    "i_ref=1217\n",
    "sequences, ats = makeATS(sequences, ats_pdb, seq_pdb, i_ref, truncate=False)"
   ]
  },
  {
   "cell_type": "markdown",
   "metadata": {},
   "source": [
    "### SCA "
   ]
  },
  {
   "cell_type": "code",
   "execution_count": 16,
   "metadata": {
    "collapsed": false
   },
   "outputs": [
    {
     "name": "stderr",
     "output_type": "stream",
     "text": [
      "@> SCA matrix was calculated in 2.56s.\n"
     ]
    },
    {
     "data": {
      "text/plain": [
       "array(['-', '-', '3', '-', '-', '-', '7', '8', '9', '10', '11', '12',\n",
       "       '13', '14', '15', '16', '17', '22', '23', '25', '27', '28', '30',\n",
       "       '31', '32', '33', '34', '36', '37', '38', '39', '43', '44', '45',\n",
       "       '46', '47', '50', '51', '52', '53', '54', '56', '57', '58', '60',\n",
       "       '-', '63', '66', '67', '68', '69', '70', '71', '73', '75', '78',\n",
       "       '-', '-', '86', '98', '-', '118', '119', '120', '124', '135', '-',\n",
       "       '146', '148', '153', '157', '164', '166', '170', '171', '172',\n",
       "       '174', '-', '192', '219', '366', '367'], dtype='<U32')"
      ]
     },
     "execution_count": 16,
     "metadata": {},
     "output_type": "execute_result"
    }
   ],
   "source": [
    "SCA_matrix = buildSCAMatrix(msa_refine, turbo=False)\n",
    "evpos_sca, cutoff_sca = getCutoff(M=SCA_matrix,p_cut=0.80)\n",
    "cutoff_sca\n",
    "imp_res_sca = getResidues(evpos=evpos_sca, cutoff=cutoff_sca)\n",
    "imp_res_sca = imp_res_sca[0]\n",
    "imp_res_sca\n",
    "resi_sca = getImpoRes(imp_res_sca)\n",
    "resi_sca"
   ]
  },
  {
   "cell_type": "markdown",
   "metadata": {},
   "source": [
    "### Mutual Information"
   ]
  },
  {
   "cell_type": "code",
   "execution_count": 17,
   "metadata": {
    "collapsed": false
   },
   "outputs": [
    {
     "name": "stderr",
     "output_type": "stream",
     "text": [
      "@> Mutual information matrix was calculated in 1.51s.\n"
     ]
    },
    {
     "data": {
      "text/plain": [
       "array(['116', '126', '141', '142', '143', '-', '145', '146', '147', '148',\n",
       "       '149', '150', '151', '153', '154', '156', '166', '167', '168',\n",
       "       '169', '170', '171', '172', '173', '175', '176', '177', '178',\n",
       "       '210', '212', '215', '216', '218', '220', '-', '223', '264', '274',\n",
       "       '275', '276', '283', '284', '285', '286', '290', '292', '293',\n",
       "       '299', '300', '310', '333', '-', '335', '336', '337', '338', '339',\n",
       "       '340', '341', '342', '352', '356', '-', '-', '359', '360', '361',\n",
       "       '362', '363', '364', '365'], dtype='<U32')"
      ]
     },
     "execution_count": 17,
     "metadata": {},
     "output_type": "execute_result"
    }
   ],
   "source": [
    "mi_matrix = buildMutinfoMatrix(msa_refine)\n",
    "evpos_mi, cutoff_mi = getCutoff(M=mi_matrix,p_cut=0.80)\n",
    "cutoff_mi\n",
    "imp_res_mi = getResidues(evpos=evpos_mi, cutoff=cutoff_mi)\n",
    "imp_res_mi = imp_res_mi[0]\n",
    "imp_res_mi\n",
    "resi_mi = getImpoRes(imp_res_mi)\n",
    "resi_mi"
   ]
  },
  {
   "cell_type": "markdown",
   "metadata": {},
   "source": [
    "### PSICOV"
   ]
  },
  {
   "cell_type": "code",
   "execution_count": 18,
   "metadata": {
    "collapsed": false
   },
   "outputs": [
    {
     "name": "stderr",
     "output_type": "stream",
     "text": [
      "@> PC matrix was calculated in 2777.79s.\n"
     ]
    },
    {
     "data": {
      "text/plain": [
       "array(['119', '121', '122', '123', '124', '125', '126', '129', '130',\n",
       "       '131', '132', '133', '134', '135', '136', '-', '-', '139', '140',\n",
       "       '141', '142', '143', '-', '145', '146', '147', '148', '149', '150',\n",
       "       '151', '152', '153', '154', '155', '156', '157', '158', '159',\n",
       "       '160', '161', '162', '-', '164', '-', '166', '167', '168', '169',\n",
       "       '170', '171', '172', '173', '174', '175', '176', '177', '178',\n",
       "       '179', '180', '181', '193', '195', '196', '197', '198', '199',\n",
       "       '200', '201', '202', '203', '204', '205', '206', '207', '208',\n",
       "       '209', '210', '211', '212', '-', '214', '215', '216', '217', '218',\n",
       "       '220', '-', '222', '223', '224', '225', '226', '227', '228', '229',\n",
       "       '231'], dtype='<U32')"
      ]
     },
     "execution_count": 18,
     "metadata": {},
     "output_type": "execute_result"
    }
   ],
   "source": [
    "psicov_matrix = buildPCMatrix(msa_refine)\n",
    "evpos_psicov, cutoff_psicov = getCutoff(M=psicov_matrix,p_cut=0.80)\n",
    "cutoff_psicov\n",
    "imp_res_psicov = getResidues(evpos=evpos_psicov, cutoff=cutoff_psicov)\n",
    "imp_res_psicov = imp_res_psicov[0]\n",
    "imp_res_psicov\n",
    "resi_psicov = getImpoRes(imp_res_psicov)\n",
    "resi_psicov"
   ]
  },
  {
   "cell_type": "markdown",
   "metadata": {},
   "source": [
    "### OMES"
   ]
  },
  {
   "cell_type": "code",
   "execution_count": 19,
   "metadata": {
    "collapsed": false
   },
   "outputs": [
    {
     "name": "stderr",
     "output_type": "stream",
     "text": [
      "@> OMES matrix was calculated in 0.76s.\n"
     ]
    },
    {
     "data": {
      "text/plain": [
       "array(['116', '118', '126', '127', '136', '139', '140', '141', '142',\n",
       "       '143', '-', '145', '146', '147', '148', '149', '150', '151', '152',\n",
       "       '153', '154', '155', '156', '159', '161', '-', '-', '166', '167',\n",
       "       '168', '169', '170', '171', '172', '173', '174', '175', '176',\n",
       "       '177', '178', '192', '193', '194', '210', '212', '215', '216',\n",
       "       '218', '223', '274', '275', '284', '-', '335', '336', '337', '338',\n",
       "       '339', '340', '342', '362', '363', '364'], dtype='<U32')"
      ]
     },
     "execution_count": 19,
     "metadata": {},
     "output_type": "execute_result"
    }
   ],
   "source": [
    "omes_matrix = buildOMESMatrix(msa_refine)\n",
    "evpos_omes, cutoff_omes = getCutoff(M=omes_matrix,p_cut=0.80)\n",
    "cutoff_omes\n",
    "imp_res_omes = getResidues(evpos=evpos_omes, cutoff=cutoff_omes)\n",
    "imp_res_omes = imp_res_omes[0]\n",
    "imp_res_omes\n",
    "resi_omes = getImpoRes(imp_res_omes)\n",
    "resi_omes"
   ]
  },
  {
   "cell_type": "markdown",
   "metadata": {},
   "source": [
    "## DCA"
   ]
  },
  {
   "cell_type": "code",
   "execution_count": 20,
   "metadata": {
    "collapsed": false
   },
   "outputs": [
    {
     "name": "stderr",
     "output_type": "stream",
     "text": [
      "@> DI matrix was calculated in 27.78s.\n"
     ]
    },
    {
     "data": {
      "text/plain": [
       "array(['-', '-', '3', '-', '-', '-', '7', '8', '9', '10', '11', '12',\n",
       "       '13', '14', '15', '16', '17', '-', '19', '20', '21', '22', '24',\n",
       "       '25', '26', '27', '28', '30', '31', '33', '34', '36', '38', '52',\n",
       "       '53', '56', '59', '84', '-', '-', '191', '-', '192', '193', '194',\n",
       "       '195', '196', '197', '198', '199', '200', '201', '202', '203',\n",
       "       '204', '205', '206', '207', '208', '209', '210', '211', '212', '-',\n",
       "       '216', '364', '365', '366', '367', '368', '369', '370', '371',\n",
       "       '372', '373', '374', '375', '376'], dtype='<U32')"
      ]
     },
     "execution_count": 20,
     "metadata": {},
     "output_type": "execute_result"
    }
   ],
   "source": [
    "di_matrix = buildDirectInfoMatrix(msa_refine, turbo=False)\n",
    "evpos_di, cutoff_di = getCutoff(M=di_matrix,p_cut=0.80)\n",
    "cutoff_di\n",
    "imp_res_di = getResidues(evpos=evpos_di, cutoff=cutoff_di)\n",
    "imp_res_di = imp_res_di[0]\n",
    "imp_res_di\n",
    "resi_di = getImpoRes(imp_res_di)\n",
    "resi_di"
   ]
  },
  {
   "cell_type": "markdown",
   "metadata": {},
   "source": [
    "## y Observed"
   ]
  },
  {
   "cell_type": "markdown",
   "metadata": {},
   "source": [
    "## SCA"
   ]
  },
  {
   "cell_type": "code",
   "execution_count": 21,
   "metadata": {
    "collapsed": false
   },
   "outputs": [
    {
     "data": {
      "text/plain": [
       "array(['-', '-', '3', '-', '-', '-', '7', '8', '9', '10', '11', '12',\n",
       "       '13', '14', '15', '16', '17', '-', '19', '20', '21', '22', '23',\n",
       "       '24', '25', '26', '27', '28', '29', '30', '31', '32', '33', '34',\n",
       "       '35', '36', '37', '38', '39', '40', '41', '42', '43', '44', '45',\n",
       "       '46', '47', '48', '49', '50', '51', '52', '53', '54', '55', '56',\n",
       "       '57', '58', '59', '60', '-', '62', '63', '-', '65', '66', '67',\n",
       "       '68', '69', '70', '71', '72', '73', '74', '75', '76', '-', '78',\n",
       "       '-', '80', '-', '82', '83', '84', '-', '86', '87', '88', '89',\n",
       "       '90', '91', '92', '-', '-', '94', '-', '97', '98', '-', '-', '101',\n",
       "       '102', '103', '104', '105', '-', '107', '108', '109', '110', '-',\n",
       "       '-', '111', '114', '115', '116', '117', '118', '119', '120', '121',\n",
       "       '122', '123', '124', '125', '126', '127', '128', '129', '130',\n",
       "       '131', '132', '133', '134', '135', '136', '-', '-', '139', '140',\n",
       "       '141', '142', '143', '-', '145', '146', '147', '148', '149', '150',\n",
       "       '151', '152', '153', '154', '155', '156', '157', '158', '159',\n",
       "       '160', '161', '162', '-', '164', '-', '166', '167', '168', '169',\n",
       "       '170', '171', '172', '173', '174', '175', '176', '177', '178',\n",
       "       '179', '180', '181', '182', '183', '184', '185', '186', '190', '-',\n",
       "       '-', '191', '-', '192', '193', '194', '195', '196', '197', '198',\n",
       "       '199', '200', '201', '202', '203', '204', '205', '206', '207',\n",
       "       '208', '209', '210', '211', '212', '-', '214', '215', '216', '217',\n",
       "       '218', '219', '220', '-', '222', '223', '224', '225', '226', '227',\n",
       "       '228', '229', '230', '231', '232', '233', '234', '-', '236', '-',\n",
       "       '238', '239', '240', '241', '-', '-', '244', '245', '246', '247',\n",
       "       '248', '-', '250', '251', '252', '-', '254', '-', '256', '257',\n",
       "       '258', '259', '260', '261', '262', '263', '264', '265', '266',\n",
       "       '267', '268', '269', '270', '271', '272', '273', '274', '275',\n",
       "       '276', '277', '278', '279', '280', '281', '-', '283', '284', '285',\n",
       "       '286', '287', '-', '289', '290', '-', '292', '293', '294', '295',\n",
       "       '296', '297', '298', '299', '300', '301', '302', '303', '304',\n",
       "       '305', '-', '-', '308', '309', '310', '311', '-', '313', '314',\n",
       "       '-', '316', '317', '318', '319', '-', '321', '322', '323', '324',\n",
       "       '325', '326', '327', '328', '329', '330', '331', '332', '333', '-',\n",
       "       '335', '336', '337', '338', '339', '340', '341', '342', '343',\n",
       "       '344', '345', '-', '347', '348', '349', '350', '351', '352', '353',\n",
       "       '354', '355', '356', '-', '-', '359', '360', '361', '362', '363',\n",
       "       '364', '365', '366', '367', '368', '369', '370', '371', '372',\n",
       "       '373', '374', '375', '376', '377', '378', '379', '380', '-'],\n",
       "      dtype='<U32')"
      ]
     },
     "execution_count": 21,
     "metadata": {},
     "output_type": "execute_result"
    }
   ],
   "source": [
    "evpos_sca_cons,cutoff_sca_cons = getCutoff(M=SCA_matrix,p_cut=0.80)\n",
    "cons_sca = getResidues(evpos=evpos_sca_cons,cutoff=0)\n",
    "cons_sca = cons_sca[0]\n",
    "cons_sca\n",
    "consensus_sca = getImpoRes(cons_sca)\n",
    "consensus_sca"
   ]
  },
  {
   "cell_type": "code",
   "execution_count": 22,
   "metadata": {
    "collapsed": false
   },
   "outputs": [
    {
     "data": {
      "text/plain": [
       "array([1, 1, 1, 1, 1, 1, 1, 1, 1, 1, 1, 1, 1, 1, 1, 1, 1, 1, 0, 0, 0, 1,\n",
       "       1, 0, 1, 0, 1, 1, 0, 1, 1, 1, 1, 1, 0, 1, 1, 1, 1, 0, 0, 0, 1, 1,\n",
       "       1, 1, 1, 0, 0, 1, 1, 1, 1, 1, 0, 1, 1, 1, 0, 1, 1, 0, 1, 1, 0, 1,\n",
       "       1, 1, 1, 1, 1, 0, 1, 0, 1, 0, 1, 1, 1, 0, 1, 0, 0, 0, 1, 1, 0, 0,\n",
       "       0, 0, 0, 0, 1, 1, 0, 1, 0, 1, 1, 1, 0, 0, 0, 0, 0, 1, 0, 0, 0, 0,\n",
       "       1, 1, 0, 0, 0, 0, 0, 1, 1, 1, 0, 0, 0, 1, 0, 0, 0, 0, 0, 0, 0, 0,\n",
       "       0, 0, 1, 0, 1, 1, 0, 0, 0, 0, 0, 1, 0, 1, 0, 1, 0, 0, 0, 0, 1, 0,\n",
       "       0, 0, 1, 0, 0, 0, 0, 0, 1, 1, 1, 1, 0, 0, 0, 1, 1, 1, 0, 1, 0, 0,\n",
       "       0, 0, 0, 0, 0, 0, 0, 0, 0, 0, 0, 1, 1, 0, 1, 1, 0, 0, 0, 0, 0, 0,\n",
       "       0, 0, 0, 0, 0, 0, 0, 0, 0, 0, 0, 0, 0, 0, 1, 0, 0, 0, 0, 0, 1, 0,\n",
       "       1, 0, 0, 0, 0, 0, 0, 0, 0, 0, 0, 0, 0, 0, 1, 0, 1, 0, 0, 0, 0, 1,\n",
       "       1, 0, 0, 0, 0, 0, 1, 0, 0, 0, 1, 0, 1, 0, 0, 0, 0, 0, 0, 0, 0, 0,\n",
       "       0, 0, 0, 0, 0, 0, 0, 0, 0, 0, 0, 0, 0, 0, 0, 0, 0, 1, 0, 0, 0, 0,\n",
       "       0, 1, 0, 0, 1, 0, 0, 0, 0, 0, 0, 0, 0, 0, 0, 0, 0, 0, 0, 1, 1, 0,\n",
       "       0, 0, 0, 1, 0, 0, 1, 0, 0, 0, 0, 1, 0, 0, 0, 0, 0, 0, 0, 0, 0, 0,\n",
       "       0, 0, 0, 1, 0, 0, 0, 0, 0, 0, 0, 0, 0, 0, 0, 1, 0, 0, 0, 0, 0, 0,\n",
       "       0, 0, 0, 0, 1, 1, 0, 0, 0, 0, 0, 0, 0, 1, 1, 0, 0, 0, 0, 0, 0, 0,\n",
       "       0, 0, 0, 0, 0, 0, 1])"
      ]
     },
     "execution_count": 22,
     "metadata": {},
     "output_type": "execute_result"
    }
   ],
   "source": [
    "y_sca = getAnnotations(resi_sca,consensus_sca)\n",
    "y_sca"
   ]
  },
  {
   "cell_type": "markdown",
   "metadata": {},
   "source": [
    "### Mutual Information"
   ]
  },
  {
   "cell_type": "code",
   "execution_count": 23,
   "metadata": {
    "collapsed": false
   },
   "outputs": [
    {
     "data": {
      "text/plain": [
       "array(['-', '-', '3', '-', '-', '-', '7', '8', '9', '10', '11', '12',\n",
       "       '13', '14', '15', '16', '17', '-', '19', '20', '21', '22', '23',\n",
       "       '24', '25', '26', '27', '28', '29', '30', '31', '32', '33', '34',\n",
       "       '35', '36', '37', '38', '39', '40', '41', '42', '43', '44', '45',\n",
       "       '46', '47', '48', '49', '50', '51', '52', '53', '54', '55', '56',\n",
       "       '57', '58', '59', '60', '-', '62', '63', '-', '65', '66', '67',\n",
       "       '68', '69', '70', '71', '72', '73', '74', '75', '76', '-', '78',\n",
       "       '-', '80', '-', '82', '83', '84', '-', '86', '87', '88', '89',\n",
       "       '90', '91', '92', '-', '-', '94', '-', '97', '98', '-', '-', '101',\n",
       "       '102', '103', '104', '105', '-', '107', '108', '109', '110', '-',\n",
       "       '-', '111', '114', '115', '116', '117', '118', '119', '120', '121',\n",
       "       '122', '123', '124', '125', '126', '127', '128', '129', '130',\n",
       "       '131', '132', '133', '134', '135', '136', '-', '-', '139', '140',\n",
       "       '141', '142', '143', '-', '145', '146', '147', '148', '149', '150',\n",
       "       '151', '152', '153', '154', '155', '156', '157', '158', '159',\n",
       "       '160', '161', '162', '-', '164', '-', '166', '167', '168', '169',\n",
       "       '170', '171', '172', '173', '174', '175', '176', '177', '178',\n",
       "       '179', '180', '181', '182', '183', '184', '185', '186', '190', '-',\n",
       "       '-', '191', '-', '192', '193', '194', '195', '196', '197', '198',\n",
       "       '199', '200', '201', '202', '203', '204', '205', '206', '207',\n",
       "       '208', '209', '210', '211', '212', '-', '214', '215', '216', '217',\n",
       "       '218', '219', '220', '-', '222', '223', '224', '225', '226', '227',\n",
       "       '228', '229', '230', '231', '232', '233', '234', '-', '236', '-',\n",
       "       '238', '239', '240', '241', '-', '-', '244', '245', '246', '247',\n",
       "       '248', '-', '250', '251', '252', '-', '254', '-', '256', '257',\n",
       "       '258', '259', '260', '261', '262', '263', '264', '265', '266',\n",
       "       '267', '268', '269', '270', '271', '272', '273', '274', '275',\n",
       "       '276', '277', '278', '279', '280', '281', '-', '283', '284', '285',\n",
       "       '286', '287', '-', '289', '290', '-', '292', '293', '294', '295',\n",
       "       '296', '297', '298', '299', '300', '301', '302', '303', '304',\n",
       "       '305', '-', '-', '308', '309', '310', '311', '-', '313', '314',\n",
       "       '-', '316', '317', '318', '319', '-', '321', '322', '323', '324',\n",
       "       '325', '326', '327', '328', '329', '330', '331', '332', '333', '-',\n",
       "       '335', '336', '337', '338', '339', '340', '341', '342', '343',\n",
       "       '344', '345', '-', '347', '348', '349', '350', '351', '352', '353',\n",
       "       '354', '355', '356', '-', '-', '359', '360', '361', '362', '363',\n",
       "       '364', '365', '366', '367', '368', '369', '370', '371', '372',\n",
       "       '373', '374', '375', '376', '377', '378', '379', '380', '-'],\n",
       "      dtype='<U32')"
      ]
     },
     "execution_count": 23,
     "metadata": {},
     "output_type": "execute_result"
    }
   ],
   "source": [
    "evpos_mi_cons,cutoff_mi_cons = getCutoff(M=SCA_matrix,p_cut=0.80)\n",
    "cons_mi = getResidues(evpos=evpos_mi_cons,cutoff=0)\n",
    "cons_mi = cons_mi[0]\n",
    "cons_mi\n",
    "consensus_mi = getImpoRes(cons_mi)\n",
    "consensus_mi"
   ]
  },
  {
   "cell_type": "code",
   "execution_count": 24,
   "metadata": {
    "collapsed": false
   },
   "outputs": [
    {
     "data": {
      "text/plain": [
       "array([1, 1, 0, 1, 1, 1, 0, 0, 0, 0, 0, 0, 0, 0, 0, 0, 0, 1, 0, 0, 0, 0,\n",
       "       0, 0, 0, 0, 0, 0, 0, 0, 0, 0, 0, 0, 0, 0, 0, 0, 0, 0, 0, 0, 0, 0,\n",
       "       0, 0, 0, 0, 0, 0, 0, 0, 0, 0, 0, 0, 0, 0, 0, 0, 1, 0, 0, 1, 0, 0,\n",
       "       0, 0, 0, 0, 0, 0, 0, 0, 0, 0, 1, 0, 1, 0, 1, 0, 0, 0, 1, 0, 0, 0,\n",
       "       0, 0, 0, 0, 1, 1, 0, 1, 0, 0, 1, 1, 0, 0, 0, 0, 0, 1, 0, 0, 0, 0,\n",
       "       1, 1, 0, 0, 0, 1, 0, 0, 0, 0, 0, 0, 0, 0, 0, 1, 0, 0, 0, 0, 0, 0,\n",
       "       0, 0, 0, 0, 1, 1, 0, 0, 1, 1, 1, 1, 1, 1, 1, 1, 1, 1, 1, 0, 1, 1,\n",
       "       0, 1, 0, 0, 0, 0, 0, 0, 1, 0, 1, 1, 1, 1, 1, 1, 1, 1, 1, 0, 1, 1,\n",
       "       1, 1, 0, 0, 0, 0, 0, 0, 0, 0, 0, 1, 1, 0, 1, 0, 0, 0, 0, 0, 0, 0,\n",
       "       0, 0, 0, 0, 0, 0, 0, 0, 0, 0, 0, 1, 0, 1, 1, 0, 1, 1, 0, 1, 0, 1,\n",
       "       1, 0, 1, 0, 0, 0, 0, 0, 0, 0, 0, 0, 0, 0, 1, 0, 1, 0, 0, 0, 0, 1,\n",
       "       1, 0, 0, 0, 0, 0, 1, 0, 0, 0, 1, 0, 1, 0, 0, 0, 0, 0, 0, 0, 0, 1,\n",
       "       0, 0, 0, 0, 0, 0, 0, 0, 0, 1, 1, 1, 0, 0, 0, 0, 0, 1, 1, 1, 1, 1,\n",
       "       0, 1, 0, 1, 1, 1, 1, 0, 0, 0, 0, 0, 1, 1, 0, 0, 0, 0, 0, 1, 1, 0,\n",
       "       0, 1, 0, 1, 0, 0, 1, 0, 0, 0, 0, 1, 0, 0, 0, 0, 0, 0, 0, 0, 0, 0,\n",
       "       0, 0, 1, 1, 1, 1, 1, 1, 1, 1, 1, 1, 0, 0, 0, 1, 0, 0, 0, 0, 0, 1,\n",
       "       0, 0, 0, 1, 1, 1, 1, 1, 1, 1, 1, 1, 1, 0, 0, 0, 0, 0, 0, 0, 0, 0,\n",
       "       0, 0, 0, 0, 0, 0, 1])"
      ]
     },
     "execution_count": 24,
     "metadata": {},
     "output_type": "execute_result"
    }
   ],
   "source": [
    "y_mi = getAnnotations(resi_mi,consensus_mi)\n",
    "y_mi"
   ]
  },
  {
   "cell_type": "markdown",
   "metadata": {},
   "source": [
    "### PSICOV"
   ]
  },
  {
   "cell_type": "code",
   "execution_count": 25,
   "metadata": {
    "collapsed": false
   },
   "outputs": [
    {
     "data": {
      "text/plain": [
       "array(['-', '-', '3', '-', '-', '-', '7', '8', '9', '10', '11', '12',\n",
       "       '13', '14', '15', '16', '17', '-', '19', '20', '21', '22', '23',\n",
       "       '24', '25', '26', '27', '28', '29', '30', '31', '32', '33', '34',\n",
       "       '35', '36', '37', '38', '39', '40', '41', '42', '43', '44', '45',\n",
       "       '46', '47', '48', '49', '50', '51', '52', '53', '54', '55', '56',\n",
       "       '57', '58', '59', '60', '-', '62', '63', '-', '65', '66', '67',\n",
       "       '68', '69', '70', '71', '72', '73', '74', '75', '76', '-', '78',\n",
       "       '-', '80', '-', '82', '83', '84', '-', '86', '87', '88', '89',\n",
       "       '90', '91', '92', '-', '-', '94', '-', '97', '98', '-', '-', '101',\n",
       "       '102', '103', '104', '105', '-', '107', '108', '109', '110', '-',\n",
       "       '-', '111', '114', '115', '116', '117', '118', '119', '120', '121',\n",
       "       '122', '123', '124', '125', '126', '127', '128', '129', '130',\n",
       "       '131', '132', '133', '134', '135', '136', '-', '-', '139', '140',\n",
       "       '141', '142', '143', '-', '145', '146', '147', '148', '149', '150',\n",
       "       '151', '152', '153', '154', '155', '156', '157', '158', '159',\n",
       "       '160', '161', '162', '-', '164', '-', '166', '167', '168', '169',\n",
       "       '170', '171', '172', '173', '174', '175', '176', '177', '178',\n",
       "       '179', '180', '181', '182', '183', '184', '185', '186', '190', '-',\n",
       "       '-', '191', '-', '192', '193', '194', '195', '196', '197', '198',\n",
       "       '199', '200', '201', '202', '203', '204', '205', '206', '207',\n",
       "       '208', '209', '210', '211', '212', '-', '214', '215', '216', '217',\n",
       "       '218', '219', '220', '-', '222', '223', '224', '225', '226', '227',\n",
       "       '228', '229', '230', '231', '232', '233', '234', '-', '236', '-',\n",
       "       '238', '239', '240', '241', '-', '-', '244', '245', '246', '247',\n",
       "       '248', '-', '250', '251', '252', '-', '254', '-', '256', '257',\n",
       "       '258', '259', '260', '261', '262', '263', '264', '265', '266',\n",
       "       '267', '268', '269', '270', '271', '272', '273', '274', '275',\n",
       "       '276', '277', '278', '279', '280', '281', '-', '283', '284', '285',\n",
       "       '286', '287', '-', '289', '290', '-', '292', '293', '294', '295',\n",
       "       '296', '297', '298', '299', '300', '301', '302', '303', '304',\n",
       "       '305', '-', '-', '308', '309', '310', '311', '-', '313', '314',\n",
       "       '-', '316', '317', '318', '319', '-', '321', '322', '323', '324',\n",
       "       '325', '326', '327', '328', '329', '330', '331', '332', '333', '-',\n",
       "       '335', '336', '337', '338', '339', '340', '341', '342', '343',\n",
       "       '344', '345', '-', '347', '348', '349', '350', '351', '352', '353',\n",
       "       '354', '355', '356', '-', '-', '359', '360', '361', '362', '363',\n",
       "       '364', '365', '366', '367', '368', '369', '370', '371', '372',\n",
       "       '373', '374', '375', '376', '377', '378', '379', '380', '-'],\n",
       "      dtype='<U32')"
      ]
     },
     "execution_count": 25,
     "metadata": {},
     "output_type": "execute_result"
    }
   ],
   "source": [
    "evpos_psicov_cons,cutoff_psicov_cons = getCutoff(M=SCA_matrix,p_cut=0.80)\n",
    "cons_psicov = getResidues(evpos=evpos_psicov_cons,cutoff=0)\n",
    "cons_psicov = cons_psicov[0]\n",
    "cons_psicov\n",
    "consensus_psicov = getImpoRes(cons_psicov)\n",
    "consensus_psicov"
   ]
  },
  {
   "cell_type": "code",
   "execution_count": 26,
   "metadata": {
    "collapsed": false
   },
   "outputs": [
    {
     "data": {
      "text/plain": [
       "array([1, 1, 0, 1, 1, 1, 0, 0, 0, 0, 0, 0, 0, 0, 0, 0, 0, 1, 0, 0, 0, 0,\n",
       "       0, 0, 0, 0, 0, 0, 0, 0, 0, 0, 0, 0, 0, 0, 0, 0, 0, 0, 0, 0, 0, 0,\n",
       "       0, 0, 0, 0, 0, 0, 0, 0, 0, 0, 0, 0, 0, 0, 0, 0, 1, 0, 0, 1, 0, 0,\n",
       "       0, 0, 0, 0, 0, 0, 0, 0, 0, 0, 1, 0, 1, 0, 1, 0, 0, 0, 1, 0, 0, 0,\n",
       "       0, 0, 0, 0, 1, 1, 0, 1, 0, 0, 1, 1, 0, 0, 0, 0, 0, 1, 0, 0, 0, 0,\n",
       "       1, 1, 0, 0, 0, 0, 0, 0, 1, 0, 1, 1, 1, 1, 1, 1, 0, 0, 1, 1, 1, 1,\n",
       "       1, 1, 1, 1, 1, 1, 1, 1, 1, 1, 1, 1, 1, 1, 1, 1, 1, 1, 1, 1, 1, 1,\n",
       "       1, 1, 1, 1, 1, 1, 1, 1, 1, 1, 1, 1, 1, 1, 1, 1, 1, 1, 1, 1, 1, 1,\n",
       "       1, 1, 1, 1, 1, 0, 0, 0, 0, 0, 0, 1, 1, 0, 1, 0, 1, 0, 1, 1, 1, 1,\n",
       "       1, 1, 1, 1, 1, 1, 1, 1, 1, 1, 1, 1, 1, 1, 1, 1, 1, 1, 1, 1, 0, 1,\n",
       "       1, 1, 1, 1, 1, 1, 1, 1, 1, 0, 1, 0, 0, 0, 1, 0, 1, 0, 0, 0, 0, 1,\n",
       "       1, 0, 0, 0, 0, 0, 1, 0, 0, 0, 1, 0, 1, 0, 0, 0, 0, 0, 0, 0, 0, 0,\n",
       "       0, 0, 0, 0, 0, 0, 0, 0, 0, 0, 0, 0, 0, 0, 0, 0, 0, 1, 0, 0, 0, 0,\n",
       "       0, 1, 0, 0, 1, 0, 0, 0, 0, 0, 0, 0, 0, 0, 0, 0, 0, 0, 0, 1, 1, 0,\n",
       "       0, 0, 0, 1, 0, 0, 1, 0, 0, 0, 0, 1, 0, 0, 0, 0, 0, 0, 0, 0, 0, 0,\n",
       "       0, 0, 0, 1, 0, 0, 0, 0, 0, 0, 0, 0, 0, 0, 0, 1, 0, 0, 0, 0, 0, 0,\n",
       "       0, 0, 0, 0, 1, 1, 0, 0, 0, 0, 0, 0, 0, 0, 0, 0, 0, 0, 0, 0, 0, 0,\n",
       "       0, 0, 0, 0, 0, 0, 1])"
      ]
     },
     "execution_count": 26,
     "metadata": {},
     "output_type": "execute_result"
    }
   ],
   "source": [
    "y_psicov = getAnnotations(resi_psicov,consensus_psicov)\n",
    "y_psicov"
   ]
  },
  {
   "cell_type": "markdown",
   "metadata": {},
   "source": [
    "### OMES"
   ]
  },
  {
   "cell_type": "code",
   "execution_count": 27,
   "metadata": {
    "collapsed": false
   },
   "outputs": [
    {
     "data": {
      "text/plain": [
       "array(['-', '-', '3', '-', '-', '-', '7', '8', '9', '10', '11', '12',\n",
       "       '13', '14', '15', '16', '17', '-', '19', '20', '21', '22', '23',\n",
       "       '24', '25', '26', '27', '28', '29', '30', '31', '32', '33', '34',\n",
       "       '35', '36', '37', '38', '39', '40', '41', '42', '43', '44', '45',\n",
       "       '46', '47', '48', '49', '50', '51', '52', '53', '54', '55', '56',\n",
       "       '57', '58', '59', '60', '-', '62', '63', '-', '65', '66', '67',\n",
       "       '68', '69', '70', '71', '72', '73', '74', '75', '76', '-', '78',\n",
       "       '-', '80', '-', '82', '83', '84', '-', '86', '87', '88', '89',\n",
       "       '90', '91', '92', '-', '-', '94', '-', '97', '98', '-', '-', '101',\n",
       "       '102', '103', '104', '105', '-', '107', '108', '109', '110', '-',\n",
       "       '-', '111', '114', '115', '116', '117', '118', '119', '120', '121',\n",
       "       '122', '123', '124', '125', '126', '127', '128', '129', '130',\n",
       "       '131', '132', '133', '134', '135', '136', '-', '-', '139', '140',\n",
       "       '141', '142', '143', '-', '145', '146', '147', '148', '149', '150',\n",
       "       '151', '152', '153', '154', '155', '156', '157', '158', '159',\n",
       "       '160', '161', '162', '-', '164', '-', '166', '167', '168', '169',\n",
       "       '170', '171', '172', '173', '174', '175', '176', '177', '178',\n",
       "       '179', '180', '181', '182', '183', '184', '185', '186', '190', '-',\n",
       "       '-', '191', '-', '192', '193', '194', '195', '196', '197', '198',\n",
       "       '199', '200', '201', '202', '203', '204', '205', '206', '207',\n",
       "       '208', '209', '210', '211', '212', '-', '214', '215', '216', '217',\n",
       "       '218', '219', '220', '-', '222', '223', '224', '225', '226', '227',\n",
       "       '228', '229', '230', '231', '232', '233', '234', '-', '236', '-',\n",
       "       '238', '239', '240', '241', '-', '-', '244', '245', '246', '247',\n",
       "       '248', '-', '250', '251', '252', '-', '254', '-', '256', '257',\n",
       "       '258', '259', '260', '261', '262', '263', '264', '265', '266',\n",
       "       '267', '268', '269', '270', '271', '272', '273', '274', '275',\n",
       "       '276', '277', '278', '279', '280', '281', '-', '283', '284', '285',\n",
       "       '286', '287', '-', '289', '290', '-', '292', '293', '294', '295',\n",
       "       '296', '297', '298', '299', '300', '301', '302', '303', '304',\n",
       "       '305', '-', '-', '308', '309', '310', '311', '-', '313', '314',\n",
       "       '-', '316', '317', '318', '319', '-', '321', '322', '323', '324',\n",
       "       '325', '326', '327', '328', '329', '330', '331', '332', '333', '-',\n",
       "       '335', '336', '337', '338', '339', '340', '341', '342', '343',\n",
       "       '344', '345', '-', '347', '348', '349', '350', '351', '352', '353',\n",
       "       '354', '355', '356', '-', '-', '359', '360', '361', '362', '363',\n",
       "       '364', '365', '366', '367', '368', '369', '370', '371', '372',\n",
       "       '373', '374', '375', '376', '377', '378', '379', '380', '-'],\n",
       "      dtype='<U32')"
      ]
     },
     "execution_count": 27,
     "metadata": {},
     "output_type": "execute_result"
    }
   ],
   "source": [
    "evpos_omes_cons,cutoff_omes_cons = getCutoff(M=omes_matrix,p_cut=0.80)\n",
    "cons_omes = getResidues(evpos=evpos_omes_cons,cutoff=0)\n",
    "cons_omes = cons_omes[0]\n",
    "cons_omes\n",
    "consensus_omes = getImpoRes(cons_omes)\n",
    "consensus_omes"
   ]
  },
  {
   "cell_type": "code",
   "execution_count": 28,
   "metadata": {
    "collapsed": false,
    "scrolled": true
   },
   "outputs": [
    {
     "data": {
      "text/plain": [
       "array([1, 1, 0, 1, 1, 1, 0, 0, 0, 0, 0, 0, 0, 0, 0, 0, 0, 1, 0, 0, 0, 0,\n",
       "       0, 0, 0, 0, 0, 0, 0, 0, 0, 0, 0, 0, 0, 0, 0, 0, 0, 0, 0, 0, 0, 0,\n",
       "       0, 0, 0, 0, 0, 0, 0, 0, 0, 0, 0, 0, 0, 0, 0, 0, 1, 0, 0, 1, 0, 0,\n",
       "       0, 0, 0, 0, 0, 0, 0, 0, 0, 0, 1, 0, 1, 0, 1, 0, 0, 0, 1, 0, 0, 0,\n",
       "       0, 0, 0, 0, 1, 1, 0, 1, 0, 0, 1, 1, 0, 0, 0, 0, 0, 1, 0, 0, 0, 0,\n",
       "       1, 1, 0, 0, 0, 1, 0, 1, 0, 0, 0, 0, 0, 0, 0, 1, 1, 0, 0, 0, 0, 0,\n",
       "       0, 0, 0, 1, 1, 1, 1, 1, 1, 1, 1, 1, 1, 1, 1, 1, 1, 1, 1, 1, 1, 1,\n",
       "       1, 1, 0, 0, 1, 0, 1, 0, 1, 0, 1, 1, 1, 1, 1, 1, 1, 1, 1, 1, 1, 1,\n",
       "       1, 1, 0, 0, 0, 0, 0, 0, 0, 0, 0, 1, 1, 0, 1, 1, 1, 1, 0, 0, 0, 0,\n",
       "       0, 0, 0, 0, 0, 0, 0, 0, 0, 0, 0, 1, 0, 1, 1, 0, 1, 1, 0, 1, 0, 0,\n",
       "       1, 0, 1, 0, 0, 0, 0, 0, 0, 0, 0, 0, 0, 0, 1, 0, 1, 0, 0, 0, 0, 1,\n",
       "       1, 0, 0, 0, 0, 0, 1, 0, 0, 0, 1, 0, 1, 0, 0, 0, 0, 0, 0, 0, 0, 0,\n",
       "       0, 0, 0, 0, 0, 0, 0, 0, 0, 1, 1, 0, 0, 0, 0, 0, 0, 1, 0, 1, 0, 0,\n",
       "       0, 1, 0, 0, 1, 0, 0, 0, 0, 0, 0, 0, 0, 0, 0, 0, 0, 0, 0, 1, 1, 0,\n",
       "       0, 0, 0, 1, 0, 0, 1, 0, 0, 0, 0, 1, 0, 0, 0, 0, 0, 0, 0, 0, 0, 0,\n",
       "       0, 0, 0, 1, 1, 1, 1, 1, 1, 1, 0, 1, 0, 0, 0, 1, 0, 0, 0, 0, 0, 0,\n",
       "       0, 0, 0, 0, 1, 1, 0, 0, 0, 1, 1, 1, 0, 0, 0, 0, 0, 0, 0, 0, 0, 0,\n",
       "       0, 0, 0, 0, 0, 0, 1])"
      ]
     },
     "execution_count": 28,
     "metadata": {},
     "output_type": "execute_result"
    }
   ],
   "source": [
    "y_omes = getAnnotations(resi_omes,consensus_omes)\n",
    "y_omes"
   ]
  },
  {
   "cell_type": "markdown",
   "metadata": {},
   "source": [
    "## DCA"
   ]
  },
  {
   "cell_type": "code",
   "execution_count": 29,
   "metadata": {
    "collapsed": false
   },
   "outputs": [
    {
     "data": {
      "text/plain": [
       "array(['-', '-', '3', '-', '-', '-', '7', '8', '9', '10', '11', '12',\n",
       "       '13', '14', '15', '16', '17', '-', '19', '20', '21', '22', '23',\n",
       "       '24', '25', '26', '27', '28', '29', '30', '31', '32', '33', '34',\n",
       "       '35', '36', '37', '38', '39', '40', '41', '42', '43', '44', '45',\n",
       "       '46', '47', '48', '49', '50', '51', '52', '53', '54', '55', '56',\n",
       "       '57', '58', '59', '60', '-', '62', '63', '-', '65', '66', '67',\n",
       "       '68', '69', '70', '71', '72', '73', '74', '75', '76', '-', '78',\n",
       "       '-', '80', '-', '82', '83', '84', '-', '86', '87', '88', '89',\n",
       "       '90', '91', '92', '-', '-', '94', '-', '97', '98', '-', '-', '101',\n",
       "       '102', '103', '104', '105', '-', '107', '108', '109', '110', '-',\n",
       "       '-', '111', '114', '115', '116', '117', '118', '119', '120', '121',\n",
       "       '122', '123', '124', '125', '126', '127', '128', '129', '130',\n",
       "       '131', '132', '133', '134', '135', '136', '-', '-', '139', '140',\n",
       "       '141', '142', '143', '-', '145', '146', '147', '148', '149', '150',\n",
       "       '151', '152', '153', '154', '155', '156', '157', '158', '159',\n",
       "       '160', '161', '162', '-', '164', '-', '166', '167', '168', '169',\n",
       "       '170', '171', '172', '173', '174', '175', '176', '177', '178',\n",
       "       '179', '180', '181', '182', '183', '184', '185', '186', '190', '-',\n",
       "       '-', '191', '-', '192', '193', '194', '195', '196', '197', '198',\n",
       "       '199', '200', '201', '202', '203', '204', '205', '206', '207',\n",
       "       '208', '209', '210', '211', '212', '-', '214', '215', '216', '217',\n",
       "       '218', '219', '220', '-', '222', '223', '224', '225', '226', '227',\n",
       "       '228', '229', '230', '231', '232', '233', '234', '-', '236', '-',\n",
       "       '238', '239', '240', '241', '-', '-', '244', '245', '246', '247',\n",
       "       '248', '-', '250', '251', '252', '-', '254', '-', '256', '257',\n",
       "       '258', '259', '260', '261', '262', '263', '264', '265', '266',\n",
       "       '267', '268', '269', '270', '271', '272', '273', '274', '275',\n",
       "       '276', '277', '278', '279', '280', '281', '-', '283', '284', '285',\n",
       "       '286', '287', '-', '289', '290', '-', '292', '293', '294', '295',\n",
       "       '296', '297', '298', '299', '300', '301', '302', '303', '304',\n",
       "       '305', '-', '-', '308', '309', '310', '311', '-', '313', '314',\n",
       "       '-', '316', '317', '318', '319', '-', '321', '322', '323', '324',\n",
       "       '325', '326', '327', '328', '329', '330', '331', '332', '333', '-',\n",
       "       '335', '336', '337', '338', '339', '340', '341', '342', '343',\n",
       "       '344', '345', '-', '347', '348', '349', '350', '351', '352', '353',\n",
       "       '354', '355', '356', '-', '-', '359', '360', '361', '362', '363',\n",
       "       '364', '365', '366', '367', '368', '369', '370', '371', '372',\n",
       "       '373', '374', '375', '376', '377', '378', '379', '380', '-'],\n",
       "      dtype='<U32')"
      ]
     },
     "execution_count": 29,
     "metadata": {},
     "output_type": "execute_result"
    }
   ],
   "source": [
    "evpos_di_cons,cutoff_di_cons = getCutoff(M=di_matrix,p_cut=0.80)\n",
    "cons_di = getResidues(evpos=evpos_di_cons,cutoff=0)\n",
    "cons_di = cons_di[0]\n",
    "cons_di\n",
    "consensus_di = getImpoRes(cons_di)\n",
    "consensus_di"
   ]
  },
  {
   "cell_type": "code",
   "execution_count": 30,
   "metadata": {
    "collapsed": false
   },
   "outputs": [
    {
     "data": {
      "text/plain": [
       "array([1, 1, 1, 1, 1, 1, 1, 1, 1, 1, 1, 1, 1, 1, 1, 1, 1, 1, 1, 1, 1, 1,\n",
       "       0, 1, 1, 1, 1, 1, 0, 1, 1, 0, 1, 1, 0, 1, 0, 1, 0, 0, 0, 0, 0, 0,\n",
       "       0, 0, 0, 0, 0, 0, 0, 1, 1, 0, 0, 1, 0, 0, 1, 0, 1, 0, 0, 1, 0, 0,\n",
       "       0, 0, 0, 0, 0, 0, 0, 0, 0, 0, 1, 0, 1, 0, 1, 0, 0, 1, 1, 0, 0, 0,\n",
       "       0, 0, 0, 0, 1, 1, 0, 1, 0, 0, 1, 1, 0, 0, 0, 0, 0, 1, 0, 0, 0, 0,\n",
       "       1, 1, 0, 0, 0, 0, 0, 0, 0, 0, 0, 0, 0, 0, 0, 0, 0, 0, 0, 0, 0, 0,\n",
       "       0, 0, 0, 0, 1, 1, 0, 0, 0, 0, 0, 1, 0, 0, 0, 0, 0, 0, 0, 0, 0, 0,\n",
       "       0, 0, 0, 0, 0, 0, 0, 0, 1, 0, 1, 0, 0, 0, 0, 0, 0, 0, 0, 0, 0, 0,\n",
       "       0, 0, 0, 0, 0, 0, 0, 0, 0, 0, 0, 1, 1, 1, 1, 1, 1, 1, 1, 1, 1, 1,\n",
       "       1, 1, 1, 1, 1, 1, 1, 1, 1, 1, 1, 1, 1, 1, 1, 0, 0, 1, 0, 0, 0, 0,\n",
       "       1, 0, 0, 0, 0, 0, 0, 0, 0, 0, 0, 0, 0, 0, 1, 0, 1, 0, 0, 0, 0, 1,\n",
       "       1, 0, 0, 0, 0, 0, 1, 0, 0, 0, 1, 0, 1, 0, 0, 0, 0, 0, 0, 0, 0, 0,\n",
       "       0, 0, 0, 0, 0, 0, 0, 0, 0, 0, 0, 0, 0, 0, 0, 0, 0, 1, 0, 0, 0, 0,\n",
       "       0, 1, 0, 0, 1, 0, 0, 0, 0, 0, 0, 0, 0, 0, 0, 0, 0, 0, 0, 1, 1, 0,\n",
       "       0, 0, 0, 1, 0, 0, 1, 0, 0, 0, 0, 1, 0, 0, 0, 0, 0, 0, 0, 0, 0, 0,\n",
       "       0, 0, 0, 1, 0, 0, 0, 0, 0, 0, 0, 0, 0, 0, 0, 1, 0, 0, 0, 0, 0, 0,\n",
       "       0, 0, 0, 0, 1, 1, 0, 0, 0, 0, 0, 1, 1, 1, 1, 1, 1, 1, 1, 1, 1, 1,\n",
       "       1, 1, 0, 0, 0, 0, 1])"
      ]
     },
     "execution_count": 30,
     "metadata": {},
     "output_type": "execute_result"
    }
   ],
   "source": [
    "y_di = getAnnotations(resi_di,consensus_di)\n",
    "y_di"
   ]
  }
 ],
 "metadata": {
  "anaconda-cloud": {},
  "kernelspec": {
   "display_name": "Python [conda env:anaconda3]",
   "language": "python",
   "name": "conda-env-anaconda3-py"
  },
  "language_info": {
   "codemirror_mode": {
    "name": "ipython",
    "version": 3
   },
   "file_extension": ".py",
   "mimetype": "text/x-python",
   "name": "python",
   "nbconvert_exporter": "python",
   "pygments_lexer": "ipython3",
   "version": "3.6.5"
  }
 },
 "nbformat": 4,
 "nbformat_minor": 2
}
